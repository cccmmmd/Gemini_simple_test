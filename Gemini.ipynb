{
  "nbformat": 4,
  "nbformat_minor": 0,
  "metadata": {
    "colab": {
      "provenance": []
    },
    "kernelspec": {
      "name": "python3",
      "display_name": "Python 3"
    },
    "language_info": {
      "name": "python"
    }
  },
  "cells": [
    {
      "cell_type": "code",
      "execution_count": 11,
      "metadata": {
        "id": "tEmAen9bVT_C"
      },
      "outputs": [],
      "source": [
        "import os\n",
        "import google.generativeai as genai"
      ]
    },
    {
      "cell_type": "code",
      "source": [
        "# GOOGLE_API_KEY = os.getenv('GOOGLE_API_KEY')\n",
        "GOOGLE_API_KEY = 'YOUR GOOGLE API KEY'\n",
        "genai.configure(api_key=GOOGLE_API_KEY, transport='rest')"
      ],
      "metadata": {
        "id": "7aR1ZQPiVZJI"
      },
      "execution_count": 49,
      "outputs": []
    },
    {
      "cell_type": "code",
      "source": [
        "# 看 Gemini 有哪些模組\n",
        "for m in genai.list_models():\n",
        "  print(m.name)"
      ],
      "metadata": {
        "colab": {
          "base_uri": "https://localhost:8080/",
          "height": 213
        },
        "id": "f2gV6KPEW_IT",
        "outputId": "1c2d0c77-ff6a-4a43-b92e-2978be9f0ab3"
      },
      "execution_count": 50,
      "outputs": [
        {
          "output_type": "stream",
          "name": "stdout",
          "text": [
            "models/chat-bison-001\n",
            "models/text-bison-001\n",
            "models/embedding-gecko-001\n",
            "models/gemini-1.0-pro\n",
            "models/gemini-1.0-pro-001\n",
            "models/gemini-1.0-pro-latest\n",
            "models/gemini-1.0-pro-vision-latest\n",
            "models/gemini-pro\n",
            "models/gemini-pro-vision\n",
            "models/embedding-001\n",
            "models/aqa\n"
          ]
        }
      ]
    },
    {
      "cell_type": "code",
      "source": [
        "model=genai.GenerativeModel('gemini-pro')"
      ],
      "metadata": {
        "id": "l2GeUnFeXJSN"
      },
      "execution_count": 19,
      "outputs": []
    },
    {
      "cell_type": "code",
      "source": [],
      "metadata": {
        "id": "5NASE7naj2Yr"
      },
      "execution_count": null,
      "outputs": []
    },
    {
      "cell_type": "markdown",
      "source": [
        "# **問問題**"
      ],
      "metadata": {
        "id": "k7AVl5alj3dl"
      }
    },
    {
      "cell_type": "code",
      "source": [
        "response = model.generate_content('人一生在追求什麼？')\n",
        "for chunk in response:\n",
        "  print(chunk.text)\n",
        "  print(\"-\"*80)"
      ],
      "metadata": {
        "colab": {
          "base_uri": "https://localhost:8080/",
          "height": 606
        },
        "id": "9XCYhP9aXYju",
        "outputId": "ae9eb7bf-ae45-4562-b46d-392e86837081"
      },
      "execution_count": 20,
      "outputs": [
        {
          "output_type": "stream",
          "name": "stdout",
          "text": [
            "**基本需求：**\n",
            "\n",
            "* 生存：食物、住所、安全\n",
            "* 安全：身體、情感和財務上的保障\n",
            "* 健康：身體和心理健康\n",
            "\n",
            "**心理需求：**\n",
            "\n",
            "* 歸屬感：聯繫和與他人互動\n",
            "* 自我實現：發揮潛能，過上有意義的生活\n",
            "* 目標感：追求有目的的生活，努力實現目標\n",
            "* 自尊：對自己的價值和能力的認識\n",
            "\n",
            "**社會需求：**\n",
            "\n",
            "* 愛與親密關係：與他人建立深層聯繫，體驗愛和關懷\n",
            "* 意義感：對社會或世界產生影響，做出有意義的貢獻\n",
            "* 認可和尊重：被他人承認和欣賞自己的價值\n",
            "\n",
            "**精神需求：**\n",
            "\n",
            "* 超越感：與比自身更大的事物或目的聯繫起來\n",
            "* 和諧與平衡：在生活各個方面尋求和平與平衡\n",
            "* 成長與進步：不斷學習、培養技能，成為更好的人\n",
            "\n",
            "**其他常見追求：**\n",
            "\n",
            "* 財富和物質享受\n",
            "* 權力與影響力\n",
            "* 冒險與激情\n",
            "* 快樂與滿足感\n",
            "* 知識與智慧\n",
            "--------------------------------------------------------------------------------\n"
          ]
        }
      ]
    },
    {
      "cell_type": "code",
      "source": [],
      "metadata": {
        "id": "eX4W4KFsjhBk"
      },
      "execution_count": null,
      "outputs": []
    },
    {
      "cell_type": "markdown",
      "source": [
        "# **圖生文**"
      ],
      "metadata": {
        "id": "5n7oDh6ojqeL"
      }
    },
    {
      "cell_type": "code",
      "source": [
        "import PIL.Image\n",
        "img = PIL.Image.open(\"report.jpeg\")"
      ],
      "metadata": {
        "id": "629F6C3LYVEA"
      },
      "execution_count": 36,
      "outputs": []
    },
    {
      "cell_type": "code",
      "source": [
        "model=genai.GenerativeModel('gemini-pro-vision')"
      ],
      "metadata": {
        "id": "-S313acPanHD"
      },
      "execution_count": 37,
      "outputs": []
    },
    {
      "cell_type": "code",
      "source": [
        "response2 = model.generate_content(img)\n",
        "print(response2.text)"
      ],
      "metadata": {
        "colab": {
          "base_uri": "https://localhost:8080/",
          "height": 88
        },
        "id": "TyqzcnmGeAIB",
        "outputId": "a8e15342-b52b-4b77-f2ca-62b4a45ab617"
      },
      "execution_count": 38,
      "outputs": [
        {
          "output_type": "stream",
          "name": "stdout",
          "text": [
            " **胸部X光檢查**：無異常。\n",
            "**骨密度檢查**：骨密度偏低。\n",
            "**心電圖檢查**：竇性心律，心率每分鐘65次。\n",
            "**腹部超音波檢查**：輕度脂肪肝，膽囊、肝臟、脾臟、胰臟、腎上腺、腎臟、輸尿管、膀胱等皆無異常。\n"
          ]
        }
      ]
    },
    {
      "cell_type": "code",
      "source": [
        "response3 = model.generate_content([\"列出圖片中的所有數據\",img], stream=True)\n",
        "response3.resolve()\n",
        "print(response3.text)"
      ],
      "metadata": {
        "colab": {
          "base_uri": "https://localhost:8080/",
          "height": 303
        },
        "id": "LoDJAtJffd-5",
        "outputId": "bbb241bc-b82f-42c2-e6ee-94acb30978a2"
      },
      "execution_count": 46,
      "outputs": [
        {
          "output_type": "stream",
          "name": "stdout",
          "text": [
            " | 檢查項目 | 結果 | 正常值 |\n",
            "| :--- | :---: | :---: |\n",
            "| 胸部正位X光 | 正常 | --- |\n",
            "| 腰椎骨密度檢查之平均骨密度 | 0.88 | g/CM2 |\n",
            "| 腰椎骨密度檢查之骨密度百分比 | 87 | % |\n",
            "| 腰椎骨密度檢查之總結 | 骨質流失(-1.1) | T-score <-1.0 |\n",
            "| 右股骨頸骨密度檢查之平均骨密度 | 0.85 | g/CM2 |\n",
            "| 右股骨頸骨密度檢查之骨密度百分比 | 91 | % |\n",
            "| 右股骨頸骨密度檢查之總結 | 正常(-0.6) | T-score <-1.0 |\n",
            "| 靜態心電圖 | 正常(心跳次數:65/分) | --- |\n",
            "| 腹部超音波檢查 | 輕度脂肪肝；肝臟數值正常，大小約2公分 | --- |\n",
            "| 腹部超音波檢查 | 無異常 | --- |\n",
            "| 腹部超音波檢查 | 無異常 | --- |\n",
            "| 腹部超音波檢查 | 無異常 | --- |\n",
            "| 腹部超音波檢查 | 無異常 | --- |\n",
            "| 腹部超音波檢查 | 無異常 | --- |\n"
          ]
        }
      ]
    },
    {
      "cell_type": "code",
      "source": [],
      "metadata": {
        "id": "8C5K2CbuhOcb"
      },
      "execution_count": null,
      "outputs": []
    }
  ]
}